{
 "cells": [
  {
   "cell_type": "code",
   "execution_count": 4,
   "id": "ee8d0a54",
   "metadata": {},
   "outputs": [
    {
     "name": "stdout",
     "output_type": "stream",
     "text": [
      "平方数：\n",
      "0\n",
      "1\n",
      "4\n",
      "9\n",
      "16\n",
      "25\n",
      "36\n",
      "49\n",
      "64\n",
      "81\n",
      "斐波那契数：\n",
      "1\n",
      "1\n",
      "2\n",
      "3\n",
      "5\n"
     ]
    }
   ],
   "source": [
    "\"\"\"\n",
    "Generator \n",
    "\"\"\"\n",
    "# 1. 第一种定义方式\n",
    "\n",
    "g = (x * x for x in range(10))\n",
    "\n",
    "print(\"平方数：\")\n",
    "for i in g:\n",
    "    print(i)\n",
    "\n",
    "\n",
    "# 2. 第二种定义方式\n",
    "def fib(max):\n",
    "    n, a, b = 0, 1, 1\n",
    "\n",
    "    while n < max: \n",
    "        yield a\n",
    "        a, b = b, a + b\n",
    "        n += 1\n",
    "\n",
    "print(\"斐波那契数：\")\n",
    "fib_5 = fib(5)\n",
    "\n",
    "for i in fib_5:\n",
    "    print(i)\n"
   ]
  },
  {
   "cell_type": "code",
   "execution_count": 5,
   "id": "655df61e",
   "metadata": {},
   "outputs": [
    {
     "name": "stdout",
     "output_type": "stream",
     "text": [
      "True\n",
      "False\n"
     ]
    }
   ],
   "source": [
    "\"\"\"\n",
    "Iterator:\n",
    "所有的 Generator 都是 Iterator， 都是 Iterable 的，但是 list tuble dict 这些数据类型虽然是 Iterable 的，但是并不是 Iterator\n",
    "\n",
    "Iterator 的判定：\n",
    "\"\"\"\n",
    "\n",
    "from collections.abc import Iterator\n",
    "print(isinstance((x for x in range(10)), Iterator))\n",
    "print(isinstance([],Iterator))"
   ]
  }
 ],
 "metadata": {
  "kernelspec": {
   "display_name": "Python 3",
   "language": "python",
   "name": "python3"
  },
  "language_info": {
   "codemirror_mode": {
    "name": "ipython",
    "version": 3
   },
   "file_extension": ".py",
   "mimetype": "text/x-python",
   "name": "python",
   "nbconvert_exporter": "python",
   "pygments_lexer": "ipython3",
   "version": "3.12.5"
  }
 },
 "nbformat": 4,
 "nbformat_minor": 5
}
