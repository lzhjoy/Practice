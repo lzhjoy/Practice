{
 "cells": [
  {
   "cell_type": "markdown",
   "metadata": {},
   "source": [
    "## 1 高阶函数\n",
    "### 1.1 `map/reduce/filter/sorted`\n"
   ]
  },
  {
   "cell_type": "code",
   "execution_count": 3,
   "metadata": {},
   "outputs": [
    {
     "name": "stdout",
     "output_type": "stream",
     "text": [
      "[0, 1, 4, 9, 16]\n"
     ]
    }
   ],
   "source": [
    "\"\"\"\n",
    "map(f, Iterable)\n",
    "Args:\n",
    "    f: Function\n",
    "    Iterable: 可迭代对象\n",
    "Description:\n",
    "    将 f 施加到所有的对象上\n",
    "\"\"\"\n",
    "def f(x):\n",
    "    return x * x\n",
    "\n",
    "input = [0, 1, 2, 3, 4]\n",
    "output = list(map(f, input))\n",
    "print(output)\n"
   ]
  },
  {
   "cell_type": "code",
   "execution_count": 4,
   "metadata": {},
   "outputs": [
    {
     "name": "stdout",
     "output_type": "stream",
     "text": [
      "1314521\n"
     ]
    }
   ],
   "source": [
    "\"\"\"\n",
    "reduce(f, Iterable)\n",
    "Args:\n",
    "    f: Function\n",
    "    Iterable: 可迭代对象\n",
    "Description:\n",
    "    reduce(f, [x1, x2, x3, x4]) = f(f(f(x1, x2), x3), x4)\n",
    "\"\"\"\n",
    "\n",
    "from functools import reduce\n",
    "\n",
    "def str2int(input: str) -> int:\n",
    "    def f1(input):\n",
    "        return map(int, input)\n",
    "    def f2(a, b):\n",
    "        return 10 * a + b\n",
    "    \n",
    "    return reduce(f2, f1(input))\n",
    "\n",
    "print(str2int(\"1314521\"))"
   ]
  },
  {
   "cell_type": "code",
   "execution_count": 5,
   "metadata": {},
   "outputs": [
    {
     "data": {
      "text/plain": [
       "[1, 5, 9, 15]"
      ]
     },
     "execution_count": 5,
     "metadata": {},
     "output_type": "execute_result"
    }
   ],
   "source": [
    "\"\"\"\n",
    "filter(f, Iterable)\n",
    "Args:\n",
    "    f: Bool Function\n",
    "    Iterable: 可迭代对象\n",
    "Description:\n",
    "    保留 f 为真值的元素\n",
    "\"\"\"\n",
    "\n",
    "def is_odd(n):\n",
    "    return n % 2 == 1\n",
    "\n",
    "list(filter(is_odd, [1, 2, 4, 5, 6, 9, 10, 15]))\n",
    "# 结果: [1, 5, 9, 15]\n"
   ]
  },
  {
   "cell_type": "code",
   "execution_count": 6,
   "metadata": {},
   "outputs": [
    {
     "name": "stdout",
     "output_type": "stream",
     "text": [
      "[5, 9, -12, -21, 36]\n",
      "['about', 'bob', 'Credit', 'Zoo']\n"
     ]
    }
   ],
   "source": [
    "\"\"\"\n",
    "sorted(Iterable, key= , reverse=False)\n",
    "Args:\n",
    "    Iterable: 可迭代对象\n",
    "    key: Function 排序规则\n",
    "    reverse: 是否降序排列，默认为 False\n",
    "Describtion:\n",
    "    排序\n",
    "\"\"\"\n",
    "print(sorted([36, 5, -12, 9, -21], key=abs))\n",
    "print(sorted(['bob', 'about', 'Zoo', 'Credit'], key=str.lower))"
   ]
  },
  {
   "cell_type": "markdown",
   "metadata": {},
   "source": [
    "### 1.2 返回函数\n",
    "\n",
    "\n",
    "Python 中的**闭包**（Closure）是指一个嵌套的函数，它记住了其外部作用域中的变量，即使外部函数已经执行完毕并返回。换句话说，闭包是函数和其“封闭”的外部环境（也就是那些被引用的非全局变量）的组合。\n",
    "\n",
    "### 为什么需要闭包？\n",
    "\n",
    "闭包主要用于创建拥有特定状态的函数。你可以用它来隐藏数据，或者创建可以配置的函数。这使得代码更加灵活和模块化。\n",
    "\n",
    "#### 闭包的构成条件\n",
    "\n",
    "一个 Python 函数要成为闭包，必须满足以下三个条件：\n",
    "\n",
    "1.  必须有一个**内嵌函数**（nested function）。\n",
    "2.  内嵌函数必须引用其**外部作用域**（enclosing scope）中的变量。\n",
    "3.  外部函数必须返回这个内嵌函数。\n",
    "\n",
    "#### 一个简单的闭包例子\n",
    "\n",
    "下面我们通过一个具体的例子来理解闭包：\n",
    "\n",
    "```python\n",
    "def outer_function(x):\n",
    "    # 外部作用域中的变量 x\n",
    "    def inner_function(y):\n",
    "        # 内嵌函数引用了外部作用域的变量 x\n",
    "        return x + y\n",
    "    return inner_function\n",
    "\n",
    "# 创建一个闭包\n",
    "add_five = outer_function(5)\n",
    "\n",
    "# 调用闭包，它“记住”了 x 的值是 5\n",
    "result = add_five(3)\n",
    "print(result) # 输出 8\n",
    "\n",
    "# 创建另一个闭包，它“记住”了 x 的值是 10\n",
    "add_ten = outer_function(10)\n",
    "result_2 = add_ten(7)\n",
    "print(result_2) # 输出 17\n",
    "```\n",
    "\n",
    "在这个例子中，`outer_function` 是外部函数，`inner_function` 是内嵌函数。当 `outer_function(5)` 被调用时，它返回了 `inner_function` 这个函数对象，并将其赋值给 `add_five`。尽管 `outer_function` 已经执行完毕，`add_five` 仍然**记住**了 `x` 的值是 `5`。当调用 `add_five(3)` 时，它能够访问到并使用这个被记住的 `x`，从而计算出 $5 + 3 = 8$。\n",
    "\n",
    "#### 闭包的应用场景\n",
    "\n",
    "闭包在实际编程中有许多用途，例如：\n",
    "\n",
    "  * **装饰器（Decorators）**：这是闭包最常见的应用。装饰器本质上就是一种特殊的闭包，用于在不修改原函数代码的情况下，给函数添加新功能。\n",
    "  * **回调函数**：可以创建带有预设参数的回调函数。\n",
    "  * **私有变量**：通过闭包可以实现类似私有变量的功能，隐藏数据。\n",
    "\n",
    "#### 查看闭包中的自由变量\n",
    "\n",
    "你可以通过函数的 `__closure__` 属性来查看闭包中引用的自由变量（free variables）：\n",
    "\n",
    "```python\n",
    "def outer_function(x):\n",
    "    def inner_function(y):\n",
    "        return x + y\n",
    "    return inner_function\n",
    "\n",
    "add_five = outer_function(5)\n",
    "\n",
    "# 查看 __closure__ 属性\n",
    "print(add_five.__closure__)\n",
    "\n",
    "# 查看具体的值\n",
    "print(add_five.__closure__[0].cell_contents)\n",
    "```\n",
    "\n",
    "输出如下：\n",
    "\n",
    "```\n",
    "(<cell at 0x...: int object at 0x...>,)\n",
    "5\n",
    "```\n",
    "\n",
    "`__closure__` 返回一个元组，其中包含一个或多个**单元格对象**（cell objects）。每个单元格对象都保存着一个被引用的自由变量。你可以通过 `.cell_contents` 来获取单元格中的值。\n",
    "\n",
    "简单来说，闭包是一种优雅而强大的编程技巧，它让函数能够“记住”其创建时的环境状态，从而实现更高级的功能和代码结构。"
   ]
  },
  {
   "cell_type": "code",
   "execution_count": 7,
   "metadata": {},
   "outputs": [
    {
     "name": "stdout",
     "output_type": "stream",
     "text": [
      "9\n",
      "9\n",
      "9\n",
      "1\n",
      "4\n",
      "9\n",
      "1\n",
      "4\n",
      "9\n"
     ]
    }
   ],
   "source": [
    "\"\"\"\n",
    "闭包：闭包会保存函数内部的局部变量\n",
    "\"\"\"\n",
    "\n",
    "def count():\n",
    "    fs = []\n",
    "    for i in range(1, 4):\n",
    "        def f():\n",
    "             return i*i\n",
    "        fs.append(f)\n",
    "    return fs\n",
    "\n",
    "f1, f2, f3 = count()\n",
    "# 这里都输出 9 是因为保存了最后一个局部值\n",
    "print(f1())\n",
    "print(f2())\n",
    "print(f3())\n",
    "\n",
    "# 这里输出 1 4 9 是因为 g 依次保存了 1 2\n",
    "def count():\n",
    "    fs = []\n",
    "    for i in range(1, 4):\n",
    "        def f(j):\n",
    "             def g():\n",
    "                return j * j\n",
    "             return g\n",
    "        fs.append(f(i))\n",
    "    return fs\n",
    "\n",
    "f1, f2, f3 = count()\n",
    "print(f1())\n",
    "print(f2())\n",
    "print(f3())\n",
    "\n",
    "\n",
    "def count_better():\n",
    "    fs = []\n",
    "    for i in range(1, 4):\n",
    "        # 闭包通过默认参数 i=i 即时绑定了值\n",
    "        def f(i=i):\n",
    "            return i * i\n",
    "        fs.append(f)\n",
    "    return fs\n",
    "\n",
    "f1, f2, f3 = count_better()\n",
    "print(f1()) # 输出 1\n",
    "print(f2()) # 输出 4\n",
    "print(f3()) # 输出 9"
   ]
  },
  {
   "cell_type": "code",
   "execution_count": 8,
   "metadata": {},
   "outputs": [
    {
     "name": "stdout",
     "output_type": "stream",
     "text": [
      "1\n",
      "1\n"
     ]
    }
   ],
   "source": [
    "# 使用闭包，就是内层函数引用了外层函数的局部变量。如果只是读外层变量的值，我们会发现返回的闭包函数调用一切正常：\n",
    "\n",
    "def inc():\n",
    "    x = 0\n",
    "    def fn():\n",
    "        # 仅读取x的值:\n",
    "        return x + 1\n",
    "    return fn\n",
    "\n",
    "f = inc()\n",
    "print(f()) # 1\n",
    "print(f()) # 1\n"
   ]
  },
  {
   "cell_type": "code",
   "execution_count": 9,
   "metadata": {},
   "outputs": [
    {
     "ename": "UnboundLocalError",
     "evalue": "cannot access local variable 'x' where it is not associated with a value",
     "output_type": "error",
     "traceback": [
      "\u001b[1;31m---------------------------------------------------------------------------\u001b[0m",
      "\u001b[1;31mUnboundLocalError\u001b[0m                         Traceback (most recent call last)",
      "Cell \u001b[1;32mIn[9], line 11\u001b[0m\n\u001b[0;32m      8\u001b[0m     \u001b[38;5;28;01mreturn\u001b[39;00m fn\n\u001b[0;32m     10\u001b[0m f \u001b[38;5;241m=\u001b[39m inc()\n\u001b[1;32m---> 11\u001b[0m \u001b[38;5;28mprint\u001b[39m(\u001b[43mf\u001b[49m\u001b[43m(\u001b[49m\u001b[43m)\u001b[49m) \n\u001b[0;32m     12\u001b[0m \u001b[38;5;28mprint\u001b[39m(f())\n",
      "Cell \u001b[1;32mIn[9], line 6\u001b[0m, in \u001b[0;36minc.<locals>.fn\u001b[1;34m()\u001b[0m\n\u001b[0;32m      4\u001b[0m \u001b[38;5;28;01mdef\u001b[39;00m \u001b[38;5;21mfn\u001b[39m():\n\u001b[0;32m      5\u001b[0m     \u001b[38;5;66;03m# nonlocal x\u001b[39;00m\n\u001b[1;32m----> 6\u001b[0m     x \u001b[38;5;241m=\u001b[39m \u001b[43mx\u001b[49m \u001b[38;5;241m+\u001b[39m \u001b[38;5;241m1\u001b[39m\n\u001b[0;32m      7\u001b[0m     \u001b[38;5;28;01mreturn\u001b[39;00m x\n",
      "\u001b[1;31mUnboundLocalError\u001b[0m: cannot access local variable 'x' where it is not associated with a value"
     ]
    }
   ],
   "source": [
    "# 但是，如果对外层变量赋值，由于Python解释器会把x当作函数fn()的局部变量，它会报错：\n",
    "def inc():\n",
    "    x = 0\n",
    "    def fn():\n",
    "        # nonlocal x\n",
    "        x = x + 1\n",
    "        return x\n",
    "    return fn\n",
    "\n",
    "f = inc()\n",
    "print(f()) \n",
    "print(f())\n"
   ]
  },
  {
   "cell_type": "code",
   "execution_count": 10,
   "metadata": {},
   "outputs": [
    {
     "name": "stdout",
     "output_type": "stream",
     "text": [
      "1\n",
      "2\n"
     ]
    }
   ],
   "source": [
    "# 使用闭包时，对外层变量赋值前，需要先使用nonlocal声明该变量不是当前函数的局部变量。\n",
    "def inc():\n",
    "    x = 0\n",
    "    def fn():\n",
    "        nonlocal x\n",
    "        x = x + 1\n",
    "        return x\n",
    "    return fn\n",
    "\n",
    "f = inc()\n",
    "print(f()) \n",
    "print(f())\n"
   ]
  },
  {
   "cell_type": "markdown",
   "metadata": {},
   "source": [
    "## 1.3 匿名函数"
   ]
  },
  {
   "cell_type": "code",
   "execution_count": 11,
   "metadata": {},
   "outputs": [
    {
     "name": "stdout",
     "output_type": "stream",
     "text": [
      "[1, 3, 5]\n"
     ]
    }
   ],
   "source": [
    "\"\"\"\n",
    "匿名函数： lambda 函数的用法\n",
    "\"\"\"\n",
    "\n",
    "input = [1, 2, 3, 4, 5, 6]\n",
    "\n",
    "output = list(filter(lambda x: x % 2 == 1, input))\n",
    "\n",
    "print(output)"
   ]
  },
  {
   "cell_type": "markdown",
   "metadata": {},
   "source": [
    "## 1.4 装饰器"
   ]
  },
  {
   "cell_type": "code",
   "execution_count": 12,
   "metadata": {},
   "outputs": [
    {
     "name": "stdout",
     "output_type": "stream",
     "text": [
      "now\n",
      "now\n"
     ]
    }
   ],
   "source": [
    "\"\"\"\n",
    "1. 函数对象的属性\n",
    "\"\"\"\n",
    "\n",
    "def now():\n",
    "    print(\"2004-06-01\")\n",
    "\n",
    "f = now\n",
    "\n",
    "print(now.__name__)\n",
    "print(f.__name__)"
   ]
  },
  {
   "cell_type": "code",
   "execution_count": 13,
   "metadata": {},
   "outputs": [
    {
     "name": "stdout",
     "output_type": "stream",
     "text": [
      "Calling now()\n",
      "2004-06-01\n",
      "wrapper\n"
     ]
    }
   ],
   "source": [
    "\"\"\"\n",
    "2. Decorator\n",
    "现在，假设我们要增强now()函数的功能，比如，在函数调用前后自动打印日志，但又不希望修改now()函数的定义，这种在代码运行期间动态增加功能的方式，称之为“装饰器”（Decorator）。\n",
    "\n",
    "本质上，decorator就是一个返回函数的高阶函数。\n",
    "\"\"\"\n",
    "\n",
    "def log(func):\n",
    "    def wrapper(*args, **kw):\n",
    "        # 所有添加的功能就填写在 wrapper 的定义下\n",
    "        print(f\"Calling {func.__name__}()\")\n",
    "        return func(*args, **kw)\n",
    "    return wrapper\n",
    "    \n",
    "@log\n",
    "def now():\n",
    "    print(\"2004-06-01\")\n",
    "# 这里的本质上相当于 now = log(now)\n",
    "now()\n",
    "# 但是这里修改了 now 的属性\n",
    "print(now.__name__)\n"
   ]
  },
  {
   "cell_type": "code",
   "execution_count": 14,
   "metadata": {},
   "outputs": [
    {
     "name": "stdout",
     "output_type": "stream",
     "text": [
      "Calling wrapper()\n",
      "Calling now()\n",
      "2004-06-01\n"
     ]
    }
   ],
   "source": [
    "# 这里由于 now 的属性已经发生了改变\n",
    "# 就相当于 now = log(wrapper)\n",
    "# 所以首先打印 Calling wrapper()\n",
    "# 然后调用 warpper 函数，由于闭包存储了之前的值，所以又发生了一遍和之前相同的行为\n",
    "now = log(now)\n",
    "now()"
   ]
  },
  {
   "cell_type": "code",
   "execution_count": 15,
   "metadata": {},
   "outputs": [
    {
     "name": "stdout",
     "output_type": "stream",
     "text": [
      "execute now()\n",
      "2024-6-1\n",
      "wrapper\n"
     ]
    }
   ],
   "source": [
    "\"\"\"\n",
    "3. 传递参数的 Decorator 用法:\n",
    "如果decorator本身需要传入参数，那就需要编写一个返回decorator的高阶函数\n",
    "\"\"\"\n",
    "# 本质上相当于 now = log('execute')(now)\n",
    "def log(text):\n",
    "    def decorator(func):\n",
    "        def wrapper(*args, **kw):\n",
    "            print(f\"{text} {func.__name__}()\")\n",
    "            return func(*args, **kw)\n",
    "        return wrapper\n",
    "    return decorator\n",
    "# 可以把 log('execute') 叫做decorator\n",
    "@log('execute')\n",
    "def now():\n",
    "    print('2024-6-1')\n",
    "\n",
    "now()\n",
    "print(now.__name__)"
   ]
  },
  {
   "cell_type": "code",
   "execution_count": 18,
   "metadata": {},
   "outputs": [
    {
     "name": "stdout",
     "output_type": "stream",
     "text": [
      "Calling now()\n",
      "2004-06-01\n",
      "now\n"
     ]
    }
   ],
   "source": [
    "\"\"\"\n",
    "4. 当我们不希望原函数的属性被修改时，可以在 wrapper 的定义前添加 @functools.wraps(func)\n",
    "\"\"\"\n",
    "import functools\n",
    "\n",
    "\n",
    "\n",
    "def log(func):\n",
    "    @functools.wraps(func)\n",
    "    def wrapper(*args, **kw):\n",
    "        print(f\"Calling {func.__name__}()\")\n",
    "        return func(*args, **kw)\n",
    "    return wrapper\n",
    "@log\n",
    "def now():\n",
    "    print('2004-06-01')\n",
    "\n",
    "now()\n",
    "print(now.__name__)\n",
    "\n"
   ]
  },
  {
   "cell_type": "code",
   "execution_count": 20,
   "metadata": {},
   "outputs": [
    {
     "name": "stdout",
     "output_type": "stream",
     "text": [
      "execute now()\n",
      "2004-06-01\n",
      "now\n"
     ]
    }
   ],
   "source": [
    "\n",
    "def log(text):\n",
    "    def decorator(func):\n",
    "        @functools.wraps(func)\n",
    "        def wrapper(*args, **kw):\n",
    "            print(f\"{text} {func.__name__}()\")\n",
    "            return func(*args, **kw)\n",
    "        return wrapper\n",
    "\n",
    "    return decorator\n",
    "@log(\"execute\")\n",
    "def now():\n",
    "    print('2004-06-01')\n",
    "\n",
    "now()\n",
    "print(now.__name__)\n",
    "\n"
   ]
  },
  {
   "cell_type": "code",
   "execution_count": 25,
   "metadata": {},
   "outputs": [
    {
     "name": "stdout",
     "output_type": "stream",
     "text": [
      "fast executed in 1.66 ms\n",
      "slow executed in 124.05 ms\n",
      "Call now()\n",
      "2004-06-01\n",
      "execute now()\n",
      "2004-06-01\n"
     ]
    }
   ],
   "source": [
    "\"\"\"\n",
    "Exc 1:\n",
    "设计一个decorator，它可作用于任何函数上，并打印该函数的执行时间\n",
    "\"\"\"\n",
    "import time, functools\n",
    "\n",
    "def metric(fn):\n",
    "    @functools.wraps(fn)\n",
    "    def wrapper(*args, **kargs):\n",
    "        start_time = time.time()\n",
    "        result = fn(*args, **kargs)\n",
    "        end_time = time.time()\n",
    "        elapsed_time = end_time - start_time\n",
    "        # 将秒转换为毫秒\n",
    "        print(f'{fn.__name__} executed in {elapsed_time * 1000:.2f} ms')\n",
    "        return result\n",
    "    return wrapper\n",
    "\n",
    "# 测试\n",
    "@metric\n",
    "def fast(x, y):\n",
    "    time.sleep(0.0012)\n",
    "    return x + y;\n",
    "\n",
    "@metric\n",
    "def slow(x, y, z):\n",
    "    time.sleep(0.1234)\n",
    "    return x * y * z;\n",
    "\n",
    "f = fast(11, 22)\n",
    "s = slow(11, 22, 33)\n",
    "if f != 33:\n",
    "    print('测试失败!')\n",
    "elif s != 7986:\n",
    "    print('测试失败!')\n",
    "\n",
    "\"\"\"\n",
    "Exc 2:\n",
    "请编写一个decorator，能在函数调用的前后打印出'begin call'和'end call'的日志。\n",
    "\"\"\"\n",
    "\n",
    "def print_call(fn):\n",
    "    @functools.wraps(fn)\n",
    "    def wrapper(*args, **kargs):\n",
    "        print(f\"Begin Call of {fn.__name__}\")\n",
    "        result = fn(*args, **kargs)\n",
    "        print(f\"End Call of {fn.__name__}\")\n",
    "\n",
    "        return result\n",
    "    return wrapper\n",
    "\n",
    "\"\"\"\n",
    "能否写出一个@log的decorator，使它既支持：\n",
    "\n",
    "@log\n",
    "def f():\n",
    "    pass\n",
    "又支持：\n",
    "\n",
    "@log('execute')\n",
    "def f():\n",
    "    pass\n",
    "\"\"\"\n",
    "\n",
    "def log(arg=None):\n",
    "    if callable(arg):\n",
    "        @functools.wraps(arg)\n",
    "        def wrapper(*args, **kargs):\n",
    "            print(f\"Call {arg.__name__}()\")\n",
    "            return arg(*args, **kargs)\n",
    "        return wrapper\n",
    "    else:\n",
    "        def decorator(fn):\n",
    "            @functools.wraps(fn)\n",
    "            def wrapper(*args, **kargs):\n",
    "                print(f\"{arg} {fn.__name__}()\")\n",
    "                return fn(*args, **kargs)\n",
    "            return wrapper\n",
    "        return decorator\n",
    "@log\n",
    "def now():\n",
    "    print('2004-06-01')  \n",
    "\n",
    "now()\n",
    "\n",
    "@log(\"execute\")\n",
    "def now():\n",
    "    print('2004-06-01')  \n",
    "now()"
   ]
  }
 ],
 "metadata": {
  "kernelspec": {
   "display_name": "Python 3",
   "language": "python",
   "name": "python3"
  },
  "language_info": {
   "codemirror_mode": {
    "name": "ipython",
    "version": 3
   },
   "file_extension": ".py",
   "mimetype": "text/x-python",
   "name": "python",
   "nbconvert_exporter": "python",
   "pygments_lexer": "ipython3",
   "version": "3.12.5"
  }
 },
 "nbformat": 4,
 "nbformat_minor": 2
}
