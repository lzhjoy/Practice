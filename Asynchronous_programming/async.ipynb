{
 "cells": [
  {
   "cell_type": "code",
   "execution_count": 1,
   "metadata": {},
   "outputs": [
    {
     "name": "stdout",
     "output_type": "stream",
     "text": [
      "Start Downloading at 11:31:24\n",
      "Downloading image...\n",
      "Downloading video...\n",
      "Images Downloaded!\n",
      "Videos Downloaded!\n",
      "End Downloading at 11:31:28\n"
     ]
    }
   ],
   "source": [
    "\"\"\"\n",
    "学习 asyncio.gather 的用法\n",
    "\"\"\"\n",
    "import asyncio\n",
    "import time\n",
    "\n",
    "# 下面的这两个语句是专门应对 ipynb 环境下的异步编程\n",
    "import nest_asyncio\n",
    "\n",
    "# 应用补丁，允许嵌套的事件循环\n",
    "nest_asyncio.apply()\n",
    "\n",
    "\n",
    "async def download_image():\n",
    "    print(\"Downloading image...\")\n",
    "    await asyncio.sleep(2)\n",
    "    print(\"Images Downloaded!\")\n",
    "\n",
    "\n",
    "async def download_video():\n",
    "    print(\"Downloading video...\")\n",
    "    await asyncio.sleep(4)\n",
    "    print(\"Videos Downloaded!\")\n",
    "\n",
    "\n",
    "async def main():\n",
    "    print(f\"Start Downloading at {time.strftime('%X')}\")\n",
    "\n",
    "    await asyncio.gather(download_image(), download_video())\n",
    "\n",
    "    print(f\"End Downloading at {time.strftime('%X')}\")\n",
    "\n",
    "\n",
    "# 现在可以安全地调用 asyncio.run() 了\n",
    "asyncio.run(main())\n"
   ]
  },
  {
   "cell_type": "code",
   "execution_count": null,
   "metadata": {},
   "outputs": [
    {
     "name": "stdout",
     "output_type": "stream",
     "text": [
      "主程序开始于 11:40:15\n",
      "主程序可以自由地做其他事情，不必等待。\n",
      "任务 A 开始，需要 3 秒。\n",
      "任务 B 开始，需要 1 秒。\n",
      "任务 B 完成。\n",
      "任务 A 完成。\n",
      "A 完成于 11:40:18\n",
      "B 完成于 11:40:16\n",
      "主程序结束于 11:40:18\n"
     ]
    }
   ],
   "source": [
    "\"\"\"\n",
    "学习 asyncio.create_task 的用法\n",
    "\"\"\"\n",
    "\n",
    "import asyncio\n",
    "import time\n",
    "\n",
    "async def do_work(name, duration):\n",
    "    print(f\"任务 {name} 开始，需要 {duration} 秒。\")\n",
    "    await asyncio.sleep(duration)\n",
    "    print(f\"任务 {name} 完成。\")\n",
    "    return f\"{name} 完成于 {time.strftime('%X')}\"\n",
    "\n",
    "async def main():\n",
    "    print(f\"主程序开始于 {time.strftime('%X')}\")\n",
    "\n",
    "    # 创建并启动两个任务\n",
    "    task1 = asyncio.create_task(do_work(\"A\", 3))\n",
    "    task2 = asyncio.create_task(do_work(\"B\", 1))\n",
    "\n",
    "    # 在这里，主程序可以做其他事情，不必立即等待任务完成\n",
    "\n",
    "    print(f\"主程序可以自由地做其他事情，不必等待。\")\n",
    "    \n",
    "    # 稍后，我们使用 await 来等待它们完成\n",
    "    result1 = await task1\n",
    "    result2 = await task2\n",
    "    \n",
    "    print(result1)\n",
    "    print(result2)\n",
    "\n",
    "    print(f\"主程序结束于 {time.strftime('%X')}\")\n",
    "\n",
    "asyncio.run(main())"
   ]
  },
  {
   "cell_type": "code",
   "execution_count": 6,
   "metadata": {},
   "outputs": [
    {
     "name": "stdout",
     "output_type": "stream",
     "text": [
      "开始从 url1 获取数据\n",
      "开始从 url2 获取数据\n",
      "开始从 url3 获取数据\n",
      "从 url1 获取数据完毕\n",
      "从 url2 获取数据完毕\n",
      "从 url3 获取数据完毕\n"
     ]
    }
   ],
   "source": [
    "\"\"\"\n",
    "asyncio.create_task 实战\n",
    "\"\"\"\n",
    "\n",
    "import asyncio\n",
    "import time\n",
    "\n",
    "async def fetch_data(url, decay):\n",
    "    print(f\"开始从 {url} 获取数据\")\n",
    "    await asyncio.sleep(decay)\n",
    "    print(f\"从 {url} 获取数据完毕\")\n",
    "\n",
    "async def main():\n",
    "    urls = [\"url1\", \"url2\", \"url3\"]\n",
    "    tasks = []\n",
    "    for i, url in enumerate(urls):\n",
    "        tasks.append(asyncio.create_task(fetch_data(url, i)))\n",
    "    for task in tasks:\n",
    "        await task\n",
    "\n",
    "asyncio.run(main())"
   ]
  },
  {
   "cell_type": "code",
   "execution_count": null,
   "metadata": {},
   "outputs": [
    {
     "name": "stdout",
     "output_type": "stream",
     "text": [
      "操作超时！\n"
     ]
    }
   ],
   "source": [
    "\"\"\"\n",
    "学习 asyncio.wait_for()\n",
    "\"\"\"\n",
    "\n",
    "import asyncio\n",
    "import time\n",
    "\n",
    "async def fetch_data(decay):\n",
    "    await asyncio.sleep(decay)\n",
    "\n",
    "async def main():\n",
    "    try:\n",
    "        await asyncio.wait_for(fetch_data(5), 3)\n",
    "        print(\"操作成功完成！\")\n",
    "    except asyncio.TimeoutError:\n",
    "        print(\"操作超时！\")\n",
    "\n",
    "asyncio.run(main())"
   ]
  }
 ],
 "metadata": {
  "kernelspec": {
   "display_name": "Python 3",
   "language": "python",
   "name": "python3"
  },
  "language_info": {
   "codemirror_mode": {
    "name": "ipython",
    "version": 3
   },
   "file_extension": ".py",
   "mimetype": "text/x-python",
   "name": "python",
   "nbconvert_exporter": "python",
   "pygments_lexer": "ipython3",
   "version": "3.12.5"
  }
 },
 "nbformat": 4,
 "nbformat_minor": 2
}
